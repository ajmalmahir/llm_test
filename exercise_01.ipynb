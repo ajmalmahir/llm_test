{
 "cells": [
  {
   "cell_type": "markdown",
   "metadata": {},
   "source": [
    "prepare input data for deep learning \n",
    "\n",
    "perform the following steps for preparing data \n",
    "\n",
    "1. load data into pandas dataframe\n",
    "2. convert the dataframe\n",
    "3. scale the feature dataset\n",
    "4. use on-hot-encoding for the target variable\n",
    "5. split into training and test datasets\n"
   ]
  },
  {
   "cell_type": "code",
   "execution_count": null,
   "metadata": {},
   "outputs": [],
   "source": [
    "\n",
    "import pandas as pd \n",
    "import os\n",
    "import tensorflow as tf\n",
    "import keras\n",
    "import numpy as np\n",
    "from sklearn.model_selection import train_test_split\n",
    "from sklearn.preprocessing import StandardScaler\n",
    "from sklearn import preprocessing\n",
    "\n",
    "# load data and review content\n",
    "iris_data = pd.read_csv(\"iris.csv\")\n",
    "\n",
    "print(\"\\nLoaded Data :\\n---\")\n",
    "print(iris_data.head())\n",
    "\n",
    "# use a label encoder to convert string to numeric values\n",
    "# for the target variable\n",
    "\n",
    "label_encoder = preprocessing.LabelEncoder()\n",
    "iris_data['Species'] = label_encoder.fit_transform(iris_data['Species'])\n",
    "\n",
    "# convert input to numpy array\n",
    "np_iris = iris_data.to_numpy()\n",
    "\n",
    "# separate feature and target variables\n",
    "x_data = np_iris[:,0:4]\n",
    "y_data = np_iris[:,4]\n",
    "\n",
    "print(\"\\nFeatures before scaling :\\n---\")\n",
    "print(x_data[:5,:])\n",
    "print(\"\\nTarget before scaling :\\n---\")\n",
    "print(y_data[:5])\n",
    "\n",
    "# create a scaler model that is fit on the input data\n",
    "scaler = StandardScaler().fit(x_data)\n",
    "\n",
    "# scale the numeric feature variables\n",
    "x_data = scaler.transform(x_data)\n",
    "\n",
    "# convert target variable as on-hot-encoding array\n",
    "y_data = keras.utils.to_categorical(y_data,3)\n",
    "\n",
    "print(\"\\nFeatures after scaling :\\n---\")\n",
    "print(x_data[:5,:])\n",
    "print(\"\\nTarget after one-hot-encoding :\\n---\")\n",
    "print(y_data[:5,:])\n",
    "\n",
    "# split training and test data\n",
    "x_train,x_test,y_train,y_test = train_test_split( x_data, y_data, test_size=0.10 )\n",
    "\n",
    "print(\"\\nTrain Test Dimensions:\\n---\")\n",
    "print(x_train.shape, y_train.shape, x_test.shape, y_test.shape)"
   ]
  }
 ],
 "metadata": {
  "kernelspec": {
   "display_name": "venv",
   "language": "python",
   "name": "python3"
  },
  "language_info": {
   "name": "python",
   "version": "3.11.0"
  }
 },
 "nbformat": 4,
 "nbformat_minor": 2
}
